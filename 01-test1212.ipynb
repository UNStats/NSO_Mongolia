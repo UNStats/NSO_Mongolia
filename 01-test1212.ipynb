{
 "cells": [
  {
   "cell_type": "markdown",
   "metadata": {},
   "source": [
    "# Testing `http://opendata.1212.mn/en/doc`"
   ]
  },
  {
   "cell_type": "markdown",
   "metadata": {},
   "source": [
    "### Load necessary libraries"
   ]
  },
  {
   "cell_type": "code",
   "execution_count": 2,
   "metadata": {},
   "outputs": [],
   "source": [
    "import csv\n",
    "import json\n",
    "import urllib3  # allows to access a URL with python\n",
    "import math\n",
    "import os\n",
    "import io\n",
    "import collections\n",
    "import numpy as np\n",
    "import pandas as pd\n",
    "import xlsxwriter\n",
    "import requests\n",
    "\n",
    "# https://volderette.de/jupyter-notebook-tip-multiple-outputs/\n",
    "from IPython.core.interactiveshell import InteractiveShell\n",
    "InteractiveShell.ast_node_interactivity = \"all\"\n"
   ]
  },
  {
   "cell_type": "markdown",
   "metadata": {},
   "source": [
    "## Get list of tables:"
   ]
  },
  {
   "cell_type": "code",
   "execution_count": 90,
   "metadata": {},
   "outputs": [],
   "source": [
    "length_response = 0\n",
    "\n",
    "# For some reason, the response varies in length... try 30 times and keep the longest response\n",
    "for i in range(30):\n",
    "    http = urllib3.PoolManager()\n",
    "    response = http.request('GET', \"opendata.1212.mn/api/Itms?type=json\")\n",
    "    \n",
    "    response_json = json.loads(response.data.decode('UTF-8'))\n",
    "    \n",
    "    # the response also includes None values... need to remove them:\n",
    "    res = [i for i in response_json if i] \n",
    "    \n",
    "    #print(len(res))\n",
    "    if len(res) > length_response:\n",
    "        items = res\n",
    "        length_response = len(res)\n",
    "    \n"
   ]
  },
  {
   "cell_type": "code",
   "execution_count": 91,
   "metadata": {},
   "outputs": [
    {
     "data": {
      "text/plain": [
       "933"
      ]
     },
     "execution_count": 91,
     "metadata": {},
     "output_type": "execute_result"
    }
   ],
   "source": [
    "# The maximum that I've gotten was 935\n",
    "len(items)"
   ]
  },
  {
   "cell_type": "code",
   "execution_count": 93,
   "metadata": {},
   "outputs": [
    {
     "data": {
      "text/plain": [
       "{'rownum': 6,\n",
       " 'list_id': '976_L31_L31_02_976_L31_L31_03',\n",
       " 'tbl_id': 'DT_NSO_3200_003V2',\n",
       " 'tbl_nm': 'НӨӨЦИЙН ХҮСНЭГТ - 2011, үндсэн болон худалдан авагчийн үнээр (20x20))',\n",
       " 'tbl_eng_nm': 'SUPLLY TABLE - 2011 at basic prices, including a transformation into purchasers prices (20x20))',\n",
       " 'unit_id': '14MON003',\n",
       " 'cd_nm': 'сая.төг',\n",
       " 'cd_eng_nm': 'mln.tug',\n",
       " 'strt_prd': '2011',\n",
       " 'end_prd': '2011',\n",
       " 'prd_se': 'Y',\n",
       " 'lst_chn_de': '20150501'}"
      ]
     },
     "execution_count": 93,
     "metadata": {},
     "output_type": "execute_result"
    }
   ],
   "source": [
    "items[932]"
   ]
  },
  {
   "cell_type": "code",
   "execution_count": 89,
   "metadata": {},
   "outputs": [],
   "source": [
    "items_df = pd.DataFrame.from_dict(items)\n",
    "items_df.to_excel('List_of_tables.xlsx', engine ='xlsxwriter', index=False)\n",
    "\n",
    "\n"
   ]
  },
  {
   "cell_type": "code",
   "execution_count": 106,
   "metadata": {},
   "outputs": [
    {
     "name": "stdout",
     "output_type": "stream",
     "text": [
      "b''\n"
     ]
    }
   ],
   "source": [
    "encoded_body = json.dumps({\n",
    "  \"tbl_id\": \"DT_NSO_2600_004V1\",\n",
    "  \"Period\": [\n",
    "    \"201701\",\n",
    "    \"201702\",\n",
    "    \"201703\"\n",
    "  ],\n",
    "  \"CODE\": [\n",
    "    \"1\",\n",
    "    \"2\"\n",
    "  ],\n",
    "  \"CODE1\": [\n",
    "    \"101\"\n",
    "  ]\n",
    "} )\n",
    "\n",
    "http = urllib3.PoolManager()\n",
    "\n",
    "r = http.request('POST', 'http://opendata.1212.mn/api/Data/',\n",
    "                 headers={'Content-Type': 'application/json'},\n",
    "                 body=encoded_body)\n",
    "\n",
    "print (r.read()) # Do something with the response?"
   ]
  },
  {
   "cell_type": "code",
   "execution_count": null,
   "metadata": {},
   "outputs": [],
   "source": []
  }
 ],
 "metadata": {
  "kernelspec": {
   "display_name": "Python 3",
   "language": "python",
   "name": "python3"
  },
  "language_info": {
   "codemirror_mode": {
    "name": "ipython",
    "version": 3
   },
   "file_extension": ".py",
   "mimetype": "text/x-python",
   "name": "python",
   "nbconvert_exporter": "python",
   "pygments_lexer": "ipython3",
   "version": "3.6.8"
  }
 },
 "nbformat": 4,
 "nbformat_minor": 2
}
